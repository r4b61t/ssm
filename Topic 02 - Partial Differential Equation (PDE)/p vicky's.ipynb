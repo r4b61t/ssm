{
 "cells": [
  {
   "cell_type": "code",
   "execution_count": 1,
   "id": "d6788bc0",
   "metadata": {},
   "outputs": [],
   "source": [
    "import numpy as np\n",
    "import matplotlib.pyplot as plt\n",
    "import matplotlib.animation as animation"
   ]
  },
  {
   "cell_type": "code",
   "execution_count": 24,
   "id": "ed6526f7",
   "metadata": {},
   "outputs": [
    {
     "name": "stdout",
     "output_type": "stream",
     "text": [
      "1.0\n"
     ]
    },
    {
     "data": {
      "image/png": "[encoded data removed]",
      "text/plain": [
       "<Figure size 432x288 with 1 Axes>"
      ]
     },
     "metadata": {
      "needs_background": "light"
     },
     "output_type": "display_data"
    }
   ],
   "source": [
    "#Instead of calculating these intervals, we define them directly. \n",
    "#This is crucial because numpy is bad at numerical computation. (see the comments when we calculate eps)\n",
    "deltaT = 0.0001 \n",
    "deltaX = 0.01\n",
    "\n",
    "tMin = 0\n",
    "tMax = 1\n",
    "\n",
    "#This is the total number of frames. Since we are using very small deltaT, we must be careful when animating.\n",
    "#tMax can be as long as we want, but the render time will increase accordingly too.\n",
    "#For example, the animation code below uses only 200 frames while this value of tMax = 1 allows up to Nt = 10000 frames.\n",
    "Nt = int(tMax/deltaT)\n",
    "Nx = int(xMax/deltaX)\n",
    "\n",
    "xMin = 0\n",
    "xMax = 1\n",
    "\n",
    "t = np.linspace(tMin, tMax, num=Nt, endpoint=True)\n",
    "x = np.linspace(xMin, xMax, num=Nx, endpoint=True)\n",
    "\n",
    "# Compute Secondary variables\n",
    "\n",
    "c = 100\n",
    "eps = (deltaT*c / deltaX)**2\n",
    "\n",
    "print(eps) #because of maths, error propagates if eps>1. Make sure dT,dX,c do not produce eps>1\n",
    "\n",
    "\n",
    "U = np.zeros((Nt, Nx), dtype=np.longdouble) \n",
    "\n",
    "# Compute Initial values\n",
    "U[0, :] = np.exp(-100. * (x - 0.5)**2) # this is U(j=0). We will compute U(j>0) later in the iteration below.\n",
    "\n",
    "\n",
    "# Plot Initial Condition\n",
    "plt.plot(x, U[0, :])\n",
    "plt.grid()\n",
    "plt.title(\"Initial Condition\")\n",
    "plt.show()\n",
    "\n",
    "# Iterate to the matrix u\n",
    "for j in range(Nt-1):\n",
    "    for i in range(Nx):\n",
    "        if i ==0 or i == Nx-1: #boundary conditions takes first priority\n",
    "            U[j+1][i] = 0\n",
    "        elif j ==0: #we calculate U(j=1) from U(j=0).\n",
    "            U_ip1 = U[0][i+1]\n",
    "            U_im1 = U[0][i-1]\n",
    "            U_ij = U[0][i]\n",
    "            U[j+1][i] = 0.5*eps*(U_ip1 + U_im1) + (1. - eps)*U_ij+ deltaT * U[0,i]\n",
    "        else: #we then calculate U(j+1) from U(j)\n",
    "            U_ip1 = U[j][i+1]\n",
    "            U_im1 = U[j][i-1]\n",
    "            U_ij = U[j][i]\n",
    "            U_jm1 = U[j-1][i]\n",
    "\n",
    "            U[j+1][i] = eps*(U_ip1 + U_im1) + 2.*(1. - eps)*U_ij - U_jm1"
   ]
  },
  {
   "cell_type": "code",
   "execution_count": 25,
   "id": "4af562b3",
   "metadata": {},
   "outputs": [
    {
     "data": {
      "text/plain": [
       "<function matplotlib.pyplot.show(close=None, block=None)>"
      ]
     },
     "execution_count": 25,
     "metadata": {},
     "output_type": "execute_result"
    },
    {
     "data": {
      "image/png": "[encoded data removed]",
      "text/plain": [
       "<Figure size 432x288 with 2 Axes>"
      ]
     },
     "metadata": {
      "needs_background": "light"
     },
     "output_type": "display_data"
    }
   ],
   "source": [
    "fig, ax = plt.subplots()\n",
    "ax = plt.axes(ylim=(-2, 2))\n",
    "line, = ax.plot(x,U[0,:])\n",
    "\n",
    "\n",
    "def animate(i):\n",
    "    line.set_data(x,U[i,:])\n",
    "    return line\n",
    "#again, the maximum number of frames is Nt, which is 10000 in this case, but the render time becomes too long, 200 frames is enough.\n",
    "anim = animation.FuncAnimation(fig, animate, frames=200, repeat=False) \n",
    "anim.save('wave-refactor.mp4', fps = 30)\n",
    "plt.show"
   ]
  },
  {
   "cell_type": "code",
   "execution_count": null,
   "id": "d470ef5f",
   "metadata": {},
   "outputs": [],
   "source": []
  }
 ],
 "metadata": {
  "kernelspec": {
   "display_name": "Python 3 (ipykernel)",
   "language": "python",
   "name": "python3"
  },
  "language_info": {
   "codemirror_mode": {
    "name": "ipython",
    "version": 3
   },
   "file_extension": ".py",
   "mimetype": "text/x-python",
   "name": "python",
   "nbconvert_exporter": "python",
   "pygments_lexer": "ipython3",
   "version": "3.9.6"
  }
 },
 "nbformat": 4,
 "nbformat_minor": 5
}
