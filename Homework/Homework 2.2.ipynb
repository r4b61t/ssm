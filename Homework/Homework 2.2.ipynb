{
 "cells": [
  {
   "cell_type": "markdown",
   "id": "cd3e4e95",
   "metadata": {},
   "source": [
    "### Homework 2.2 - Heat Transfer\n",
    "\n",
    "Use the finite differential method to solve a heat transfer equation, given by\n",
    "\n",
    "$$ \\frac{{\\partial T}}{{\\partial t}} = k\\frac{{{\\partial ^2}T}}{{\\partial {x^2}}} $$\n",
    "\n",
    "where $T(t, x)$ is the temperature distribution function.\n",
    "\n",
    "Solve the equation for $x$ between 0 and 1. At $x=0$ the temperature varies as $T(t,0)=sin(10t)$ and at At $x=1$ the temperature varies as $T(t,0)=e^{ - 100 (t - 0.15)^2}$.\n",
    "\n",
    "Make the animated clip of the temperature distribution function evolution. Pick appropriate time range."
   ]
  },
  {
   "cell_type": "markdown",
   "id": "7e24cfbb",
   "metadata": {},
   "source": [
    "$$\\frac{{{T_{i,j + 1}} - {T_{i,j}}}}{\\eta } = k\\frac{{{T_{i + 1,j}} - 2{T_{i,j}} + {T_{i - 1,j}}}}{{{\\delta ^2}}}$$\n",
    "\n",
    "Let $\\varepsilon  = \\frac{{k\\eta }}{{{\\delta ^2}}}$\n",
    "\n",
    "$${T_{i,j + 1}} - {T_{i,j}} = \\varepsilon \\left( {{T_{i + 1,j}} - 2{T_{i,j}} + {T_{i - 1,j}}} \\right)$$\n",
    "\n",
    "$${T_{i,j + 1}} = \\varepsilon \\left( {{T_{i + 1,j}} - 2{T_{i,j}} + {T_{i - 1,j}}} \\right) + {T_{i,j}}$$"
   ]
  },
  {
   "cell_type": "code",
   "execution_count": 1,
   "id": "4faf0c34",
   "metadata": {},
   "outputs": [],
   "source": [
    "import numpy as np\n",
    "import matplotlib.pyplot as plt\n",
    "import matplotlib.animation as animation\n"
   ]
  },
  {
   "cell_type": "code",
   "execution_count": 63,
   "id": "7d923dff",
   "metadata": {},
   "outputs": [
    {
     "name": "stdout",
     "output_type": "stream",
     "text": [
      "0.19999999999999998\n"
     ]
    }
   ],
   "source": [
    "nx = 10\n",
    "nt = 1000\n",
    "L=1\n",
    "D=10\n",
    "k=0.2\n",
    "dh = (L-0) / nx\n",
    "dt = D /nt\n",
    "\n",
    "\n",
    "t=np.linspace(0,D,nt)\n",
    "x=np.linspace(0,L,nx)\n",
    "\n",
    "eps=k*dt/dh/dh\n",
    "T = np.zeros((nx,nt))\n",
    "\n",
    "T[0][1]= np.sin(10*1*dt)\n",
    "T[-1][0] = np.exp(-100*(-0.15)**2)\n",
    "T[-1][1] = np.exp(-100*(1*dt-0.15)**2)\n",
    "\n",
    "for j in range(1,nt-1):\n",
    "    T[0][j+1]= np.sin(10*(j+1)*dt)\n",
    "    T[-1][j+1]= np.exp(-100*((j+1)*dt-0.15)**2)\n",
    "    for i in range(1,nx-1):\n",
    "        T[i][j+1]=eps*(T[i+1][j]-2*T[i][j]+T[i-1][j]) + T[i][j]\n",
    "print(eps)"
   ]
  },
  {
   "cell_type": "code",
   "execution_count": 64,
   "id": "20690da7",
   "metadata": {},
   "outputs": [
    {
     "data": {
      "text/plain": [
       "<function matplotlib.pyplot.show(close=None, block=None)>"
      ]
     },
     "execution_count": 64,
     "metadata": {},
     "output_type": "execute_result"
    },
    {
     "data": {
      "image/png": "[encoded data removed]",
      "text/plain": [
       "<Figure size 432x288 with 1 Axes>"
      ]
     },
     "metadata": {
      "needs_background": "light"
     },
     "output_type": "display_data"
    }
   ],
   "source": [
    "fig, ax = plt.subplots()\n",
    "ax = plt.axes(xlim=(0, 1), ylim=(-4, 4))\n",
    "line, = ax.plot(x,T[:,0])\n",
    "\n",
    "\n",
    "def animate(i):\n",
    "    line.set_data(x,T[:,i])\n",
    "    return line\n",
    "\n",
    "anim = animation.FuncAnimation(fig, animate, frames=1000, repeat=False)\n",
    "anim.save('heat.mp4', fps = 100)\n",
    "plt.show"
   ]
  },
  {
   "cell_type": "code",
   "execution_count": null,
   "id": "6b42f2c2",
   "metadata": {},
   "outputs": [],
   "source": []
  }
 ],
 "metadata": {
  "kernelspec": {
   "display_name": "Python 3 (ipykernel)",
   "language": "python",
   "name": "python3"
  },
  "language_info": {
   "codemirror_mode": {
    "name": "ipython",
    "version": 3
   },
   "file_extension": ".py",
   "mimetype": "text/x-python",
   "name": "python",
   "nbconvert_exporter": "python",
   "pygments_lexer": "ipython3",
   "version": "3.9.6"
  }
 },
 "nbformat": 4,
 "nbformat_minor": 5
}
