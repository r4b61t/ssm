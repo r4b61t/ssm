{
 "cells": [
  {
   "cell_type": "markdown",
   "metadata": {
    "collapsed": true
   },
   "source": [
    "### Homework 2.1.1 - 1D Wave\n",
    "\n",
    "Solve the wave equation\n",
    "\n",
    "$$\\frac{{{\\partial ^2}u}}{{\\partial {t^2}}} = c^2 \\frac{{{\\partial ^2}u}}{{\\partial {x^2}}}$$\n",
    "\n",
    "subjected to the **feeding wave boundary condition** at $x = 0$,\n",
    "\n",
    "$$u(0, t) = 2\\sin(\\omega t)$$\n",
    "\n",
    "and the boundary condition on the other end, $x = L$ is an **open boundary condition**.\n",
    "\n",
    "where $L = 1$ and the initial condition at $t=0$ is:\n",
    "\n",
    "$$u(x, 0) = 0$$\n",
    "\n",
    "You choose appropreate values of **the speed ($c$)** and **the frequency ($\\omega$)** to make a nice time-animated graph video clip."
   ]
  },
  {
   "cell_type": "markdown",
   "metadata": {},
   "source": [
    "$${u_{i,j + 1}} = \\frac{{{\\delta ^2}{c^2}}}{{{h^2}}}\\left( {{u_{i + 1,j}} + {u_{i - 1,j}}} \\right) + 2\\left( {1 - \\frac{{{\\delta ^2}{c^2}}}{{{h^2}}}} \\right){u_{i,j}} - {u_{i,j - 1}}$$\n",
    "$$ {u_{i,1}} = \\frac{{{\\delta ^2}{c^2}}}{{2{h^2}}}\\left( {{u_{i + 1,0}} + {u_{i - 1,0}}} \\right) + \\left( {1 - \\frac{{{\\delta ^2}{c^2}}}{{{h^2}}}} \\right){u_{i,0}} $$\n",
    "$${u_{i, - 1}} = {u_{i,1}} - 2\\delta {\\left. {\\frac{{\\partial u({x_i},t)}}{{\\partial t}}} \\right|_{t = 0}}$$"
   ]
  },
  {
   "cell_type": "code",
   "execution_count": 1,
   "metadata": {},
   "outputs": [],
   "source": [
    "import numpy as np\n",
    "import matplotlib.pyplot as plt\n",
    "import matplotlib.animation as animation"
   ]
  },
  {
   "cell_type": "code",
   "execution_count": 243,
   "metadata": {},
   "outputs": [
    {
     "data": {
      "text/plain": [
       "[<matplotlib.lines.Line2D at 0x2737ff2edc0>]"
      ]
     },
     "execution_count": 243,
     "metadata": {},
     "output_type": "execute_result"
    },
    {
     "data": {
      "image/png": "[encoded data removed]",
      "text/plain": [
       "<Figure size 432x288 with 1 Axes>"
      ]
     },
     "metadata": {
      "needs_background": "light"
     },
     "output_type": "display_data"
    }
   ],
   "source": [
    "nx = 100\n",
    "nt = 1000\n",
    "L=1\n",
    "D=10\n",
    "dh = (L-0) / nx\n",
    "dt = D /nt\n",
    "\n",
    "t=np.linspace(0,D,nt)\n",
    "x=np.linspace(0,L,nx)\n",
    "c = 1\n",
    "omega = 20\n",
    "\n",
    "dch2=dt*dt*c*c/dh**2\n",
    "\n",
    "u = np.zeros((nx,nt))\n",
    "\n",
    "u[0][1]= 2*np.sin(omega*1*dt)\n",
    "\n",
    "for i in range(1,nx-1):\n",
    "    u[i][1] = 0.5*dch2*(u[i+1,i-1])+(1-dch2)*u[i,0]\n",
    "u[0][2]= 2*np.sin(omega*2*dt)\n",
    "for j in range(1,nt-1):\n",
    "    for i in range(1,nx-1):\n",
    "        u[0][j+1]= 2*np.sin(omega*(j+1)*dt)\n",
    "        u[-1][j+1]= u[-1][j] - c*(u[-1][j] - u[-2][j])\n",
    "        u[i][j+1]=dch2*(u[i+1,j]+u[i-1,j])+2*(1-dch2)*u[i,j] - u[i,j-1]\n",
    "plt.plot(x,u[:,1])"
   ]
  },
  {
   "cell_type": "code",
   "execution_count": 244,
   "metadata": {},
   "outputs": [
    {
     "data": {
      "text/plain": [
       "<function matplotlib.pyplot.show(close=None, block=None)>"
      ]
     },
     "execution_count": 244,
     "metadata": {},
     "output_type": "execute_result"
    },
    {
     "data": {
      "image/png": "[encoded data removed]",
      "text/plain": [
       "<Figure size 432x288 with 1 Axes>"
      ]
     },
     "metadata": {
      "needs_background": "light"
     },
     "output_type": "display_data"
    }
   ],
   "source": [
    "fig, ax = plt.subplots()\n",
    "ax = plt.axes(xlim=(0, 1), ylim=(-4, 4))\n",
    "line, = ax.plot(x,u[:,0])\n",
    "\n",
    "\n",
    "def animate(i):\n",
    "    line.set_data(x,u[:,i])\n",
    "    return line\n",
    "\n",
    "anim = animation.FuncAnimation(fig, animate, frames=1000, repeat=False)\n",
    "anim.save('wave.mp4', fps = 100)\n",
    "plt.show"
   ]
  },
  {
   "cell_type": "markdown",
   "metadata": {
    "collapsed": true
   },
   "source": [
    "___\n",
    "### Homework 2.1.2 - 1D Wave with damping\n",
    "\n",
    "Solve the wave equation\n",
    "\n",
    "$$\\frac{\\partial^2 u}{\\partial t^2} = c^2 \\frac{\\partial^2 u}{\\partial x^2} - k \\frac{\\partial u}{\\partial t}$$\n",
    "\n",
    "subjected to the **feeding wave boundary condition** at $x = 0$,\n",
    "\n",
    "$$u(0, t) = 2\\sin(\\omega t)$$\n",
    "\n",
    "and the boundary condition on the other end, $x = L$ is an **open boundary condition**.\n",
    "\n",
    "where $L = 1$ and the initial condition at $t=0$ is:\n",
    "\n",
    "$$u(x, 0) = 0$$\n",
    "\n",
    "You choose appropreate values of **the speed ($c$)**, **the frequency ($\\omega$)**, and **the damping factor ($k$)** to make a nice time-animated graph video clip."
   ]
  },
  {
   "cell_type": "code",
   "execution_count": null,
   "metadata": {},
   "outputs": [],
   "source": []
  }
 ],
 "metadata": {
  "kernelspec": {
   "display_name": "Python 3",
   "language": "python",
   "name": "python3"
  },
  "language_info": {
   "codemirror_mode": {
    "name": "ipython",
    "version": 3
   },
   "file_extension": ".py",
   "mimetype": "text/x-python",
   "name": "python",
   "nbconvert_exporter": "python",
   "pygments_lexer": "ipython3",
   "version": "3.8.5"
  }
 },
 "nbformat": 4,
 "nbformat_minor": 1
}
