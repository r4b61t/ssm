{
 "cells": [
  {
   "cell_type": "markdown",
   "metadata": {},
   "source": [
    "## 4.3 Monte Carlo Simulation of the Ising Model\n",
    "\n",
    "The Ising Model is a simplified version of a ferromagnet - where the structure of the material consist of a single dipole per lattice site. The overall magnetization of the material is determined by the number of dipoles that are aligned parallel to one-another. The Ising Model is a beautifully simpl demonstration of the implications of statistical mechanics and phase transitions - as well a being an fantastic example of the power of Monte Carlo Simulations."
   ]
  },
  {
   "cell_type": "markdown",
   "metadata": {},
   "source": [
    "### Model descriptions\n",
    "\n",
    "1. Create a 2D lattice using 2D array of size 50x50\n",
    "\n",
    "2. Fill the arrays with spin states using -1 or +1 randomly\n",
    "\n",
    "3. Randomly select an element from the 2D lattice\n",
    "\n",
    "4. Flip the spin state of the selected element and calculate the change in energy due to the flipping process:\n",
    "    \n",
    "    $${E_{mn}} =  - 2\\sum\\limits_{ij} {{s_{ij}}{s_{mn}}} $$\n",
    "\n",
    "5. if ${E_{mn}} \\le 0$ then the spin is permanently flipped,\n",
    "   else calculate the Boltzmann's probability, $p$:\n",
    "   \n",
    "   $$p = {e^{ - \\beta {E_{mn}}}}$$\n",
    " \n",
    "    random a number $x$ btween 0 and 1:\n",
    "\n",
    "    if $x \\le p$ then spin is permanently flipped.\n",
    "\n",
    "    otherwise, spin returns to its original state.\n",
    "    \n",
    "6. Plot 2D grid\n",
    "\n",
    "7. Repeat step 3 for 100,000 times"
   ]
  },
  {
   "cell_type": "code",
   "execution_count": 67,
   "metadata": {},
   "outputs": [],
   "source": [
    "import numpy as np\n",
    "import scipy\n",
    "from matplotlib import pyplot as plt\n",
    "import matplotlib.animation as animation"
   ]
  },
  {
   "cell_type": "code",
   "execution_count": 72,
   "metadata": {},
   "outputs": [],
   "source": [
    "lattice = np.where(np.random.randint(2, size=(50, 50)) == 0, -1, 1)\n",
    "beta = 1000\n",
    "# k = scipy.constant.Boltzmann\n",
    "# T = 100\n",
    "# beta = 1/(k*T)\n",
    "frames = []\n",
    "for _ in range(10000):\n",
    "    oldlattice = lattice.copy()\n",
    "    i = np.random.randint(1,49)\n",
    "    j = np.random.randint(1,49)\n",
    "    E = -2 *(-1* lattice[i][j]* lattice[i-1][j] + -1* lattice[i][j]* lattice[i+1][j] + -1* lattice[i][j]* lattice[i][j-1] + -1* lattice[i][j]* lattice[i][j+1])\n",
    "    if E <= 0:\n",
    "        lattice[i][j] = -lattice[i][j]\n",
    "    else:\n",
    "        p = np.exp(-beta*E)\n",
    "        if np.random.uniform(0, 1) <= p:\n",
    "            lattice[i][j] = -lattice[i][j]\n",
    "    frames.append(oldlattice)"
   ]
  },
  {
   "cell_type": "code",
   "execution_count": 74,
   "metadata": {},
   "outputs": [
    {
     "data": {
      "text/plain": [
       "<function matplotlib.pyplot.show(close=None, block=None)>"
      ]
     },
     "execution_count": 74,
     "metadata": {},
     "output_type": "execute_result"
    },
    {
     "data": {
      "image/png": "[encoded data removed]",
      "text/plain": [
       "<Figure size 432x288 with 2 Axes>"
      ]
     },
     "metadata": {
      "needs_background": "light"
     },
     "output_type": "display_data"
    }
   ],
   "source": [
    "fig, ax = plt.subplots()\n",
    "ax = plt.axes(xlim=(0, 50), ylim=(0, 50))\n",
    "line = plt.imshow(frames[0],cmap=\"hot\")\n",
    "\n",
    "\n",
    "def animate(i):\n",
    "    line.set_array(frames[i])\n",
    "    return line\n",
    "\n",
    "anim = animation.FuncAnimation(fig, animate, frames=(len(frames)), repeat=False)\n",
    "anim.save('ising model.mp4', fps = 1000)\n",
    "plt.show"
   ]
  },
  {
   "cell_type": "code",
   "execution_count": null,
   "metadata": {},
   "outputs": [],
   "source": []
  }
 ],
 "metadata": {
  "kernelspec": {
   "display_name": "Python 3 (ipykernel)",
   "language": "python",
   "name": "python3"
  },
  "language_info": {
   "codemirror_mode": {
    "name": "ipython",
    "version": 3
   },
   "file_extension": ".py",
   "mimetype": "text/x-python",
   "name": "python",
   "nbconvert_exporter": "python",
   "pygments_lexer": "ipython3",
   "version": "3.9.6"
  }
 },
 "nbformat": 4,
 "nbformat_minor": 1
}
