{
 "cells": [
  {
   "cell_type": "code",
   "execution_count": 2,
   "id": "488aa3f1",
   "metadata": {},
   "outputs": [],
   "source": [
    "import numpy as np\n",
    "import matplotlib.pyplot as plt"
   ]
  },
  {
   "cell_type": "markdown",
   "id": "00f1673a",
   "metadata": {},
   "source": [
    "### 3.6 Signal Processing\n",
    "\n",
    "Fourier Transform gives us ability to view our data in a completely different perspective, which is the data in time-domain to its frequency domain. Knowing the frequency domain allow us to understand about the frequency component with in the data. This opens a number of opportunities to process the data in many ways.\n",
    "\n",
    "One of the application that we will be using in the topic is the noise reduction example. The data collected usaully contains unwanted noise, which we can filter out easily in the frequency domain. Once the noise frequency has been removed, we can perform an inverse Fourier Transform or Discrete Fourier Transform to obtain the cleaned signal."
   ]
  },
  {
   "cell_type": "markdown",
   "id": "38066a25",
   "metadata": {},
   "source": [
    "___\n",
    "#### Removing Noise from Data\n",
    "\n",
    "Example below is from https://towardsdatascience.com/clean-up-data-noise-with-fourier-transform-in-python-7480252fd9c9"
   ]
  },
  {
   "cell_type": "code",
   "execution_count": null,
   "id": "32d27e7d",
   "metadata": {},
   "outputs": [],
   "source": [
    "#Create a simple signal with two frequencies\n",
    "data_step = 0.001\n",
    "t = np.arange(start=0,stop=1,step=data_step)\n",
    "f_clean = np.sin(2*np.pi*50*t) + np.sin(2*np.pi*120*t)\n",
    "f_noise = f_clean + 2.5*np.random.randn(len(t))\n",
    "plt.plot(t, f_noise, label='Noisy')\n",
    "plt.plot(t, f_clean, label='Clean')\n",
    "plt.legend()"
   ]
  },
  {
   "cell_type": "code",
   "execution_count": null,
   "id": "9f5d9218",
   "metadata": {},
   "outputs": [],
   "source": []
  },
  {
   "cell_type": "code",
   "execution_count": null,
   "id": "ca858b93",
   "metadata": {},
   "outputs": [],
   "source": []
  },
  {
   "cell_type": "code",
   "execution_count": null,
   "id": "90246fa5",
   "metadata": {},
   "outputs": [],
   "source": []
  },
  {
   "cell_type": "code",
   "execution_count": null,
   "id": "abecb6d0",
   "metadata": {},
   "outputs": [],
   "source": []
  },
  {
   "cell_type": "markdown",
   "id": "06a1190e",
   "metadata": {},
   "source": [
    "___\n",
    "#### Removing Audio Noise\n"
   ]
  },
  {
   "cell_type": "code",
   "execution_count": 3,
   "id": "0501a6da",
   "metadata": {},
   "outputs": [
    {
     "data": {
      "text/plain": [
       "<matplotlib.legend.Legend at 0x1cfc5641060>"
      ]
     },
     "execution_count": 3,
     "metadata": {},
     "output_type": "execute_result"
    },
    {
     "data": {
      "image/png": "[encoded data removed]",
      "text/plain": [
       "<Figure size 432x288 with 1 Axes>"
      ]
     },
     "metadata": {
      "needs_background": "light"
     },
     "output_type": "display_data"
    }
   ],
   "source": [
    "from scipy.io import wavfile\n",
    "freq, y = wavfile.read('images/samples_original_sample1.wav')\n",
    "dt = 1/freq\n",
    "t = np.linspace(0, (len(y)-1)*dt, len(y))\n",
    "plt.plot(t, y, label='Original')\n",
    "plt.title('Time Domain')\n",
    "plt.legend()"
   ]
  },
  {
   "cell_type": "code",
   "execution_count": null,
   "id": "5351e6d1",
   "metadata": {},
   "outputs": [],
   "source": []
  },
  {
   "cell_type": "code",
   "execution_count": null,
   "id": "ad9266b9",
   "metadata": {},
   "outputs": [],
   "source": []
  },
  {
   "cell_type": "code",
   "execution_count": null,
   "id": "1a45906a",
   "metadata": {},
   "outputs": [],
   "source": []
  },
  {
   "cell_type": "code",
   "execution_count": null,
   "id": "9168e086",
   "metadata": {},
   "outputs": [],
   "source": []
  },
  {
   "cell_type": "code",
   "execution_count": null,
   "id": "9ac77cf4",
   "metadata": {},
   "outputs": [],
   "source": []
  },
  {
   "cell_type": "code",
   "execution_count": 4,
   "id": "fc010850",
   "metadata": {},
   "outputs": [
    {
     "ename": "NameError",
     "evalue": "name 'new_f_clean' is not defined",
     "output_type": "error",
     "traceback": [
      "\u001b[1;31m---------------------------------------------------------------------------\u001b[0m",
      "\u001b[1;31mNameError\u001b[0m                                 Traceback (most recent call last)",
      "\u001b[1;32m~\\AppData\\Local\\Temp/ipykernel_8000/3500520814.py\u001b[0m in \u001b[0;36m<module>\u001b[1;34m\u001b[0m\n\u001b[1;32m----> 1\u001b[1;33m \u001b[0mwavfile\u001b[0m\u001b[1;33m.\u001b[0m\u001b[0mwrite\u001b[0m\u001b[1;33m(\u001b[0m\u001b[1;34m'samples_noise_reduced.wav'\u001b[0m\u001b[1;33m,\u001b[0m \u001b[0mfreq\u001b[0m\u001b[1;33m,\u001b[0m \u001b[0mnp\u001b[0m\u001b[1;33m.\u001b[0m\u001b[0marray\u001b[0m\u001b[1;33m(\u001b[0m\u001b[0mnew_f_clean\u001b[0m\u001b[1;33m,\u001b[0m \u001b[0mdtype\u001b[0m\u001b[1;33m=\u001b[0m\u001b[0mnp\u001b[0m\u001b[1;33m.\u001b[0m\u001b[0mint16\u001b[0m\u001b[1;33m)\u001b[0m\u001b[1;33m)\u001b[0m\u001b[1;33m\u001b[0m\u001b[1;33m\u001b[0m\u001b[0m\n\u001b[0m",
      "\u001b[1;31mNameError\u001b[0m: name 'new_f_clean' is not defined"
     ]
    }
   ],
   "source": [
    "wavfile.write('samples_noise_reduced.wav', freq, np.array(new_f_clean, dtype=np.int16))"
   ]
  },
  {
   "cell_type": "code",
   "execution_count": null,
   "id": "b14f1c52",
   "metadata": {},
   "outputs": [],
   "source": [
    "y"
   ]
  },
  {
   "cell_type": "code",
   "execution_count": null,
   "id": "162467d4",
   "metadata": {},
   "outputs": [],
   "source": [
    "np.array(new_f_clean, dtype=np.int16)"
   ]
  },
  {
   "cell_type": "code",
   "execution_count": null,
   "id": "ac9e92c6",
   "metadata": {},
   "outputs": [],
   "source": []
  }
 ],
 "metadata": {
  "kernelspec": {
   "display_name": "Python 3 (ipykernel)",
   "language": "python",
   "name": "python3"
  },
  "language_info": {
   "codemirror_mode": {
    "name": "ipython",
    "version": 3
   },
   "file_extension": ".py",
   "mimetype": "text/x-python",
   "name": "python",
   "nbconvert_exporter": "python",
   "pygments_lexer": "ipython3",
   "version": "3.10.0"
  }
 },
 "nbformat": 4,
 "nbformat_minor": 5
}
